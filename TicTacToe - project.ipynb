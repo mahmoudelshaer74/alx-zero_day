{
 "cells": [
  {
   "cell_type": "markdown",
   "id": "e017810e",
   "metadata": {},
   "source": [
    "# Capstone Tic Tac Toe Project"
   ]
  },
  {
   "cell_type": "markdown",
   "id": "3cd19a6c",
   "metadata": {},
   "source": [
    "## Function to print the game board "
   ]
  },
  {
   "cell_type": "markdown",
   "id": "29750c99",
   "metadata": {},
   "source": [
    "Design the game board as a 3x3 list of lists. \n",
    "Each element in the list represents a square on the board and is initially set to an empty string. \n",
    "Create a function to print the game board to the console.This function should take the game board as a parameter and use loops to iterate through the rows and columns of the board, printing each square in the appropriate location."
   ]
  },
  {
   "cell_type": "code",
   "execution_count": 112,
   "id": "5cd0a59d",
   "metadata": {},
   "outputs": [],
   "source": [
    "import os as os   \n",
    "import time as t\n",
    "import sys as sys\n",
    "import numpy as np"
   ]
  },
  {
   "cell_type": "code",
   "execution_count": 113,
   "id": "7a7059d4",
   "metadata": {},
   "outputs": [],
   "source": [
    "def GameBoard(board):\n",
    "    print(' ___','___','___')\n",
    "    print('|',board[0][0],'|',board[0][1],'|',board[0][2],'|')\n",
    "    print('|___|___|___|')\n",
    "    print('|',board[1][0],'|',board[1][1],'|',board[1][2],'|')\n",
    "    print('|___|___|___|')\n",
    "    print('|',board[2][0],'|',board[2][1],'|',board[2][2],'|')\n",
    "    print('|___|___|___|')"
   ]
  },
  {
   "cell_type": "markdown",
   "id": "b53a3a1b",
   "metadata": {},
   "source": [
    "## Function to handle player moves "
   ]
  },
  {
   "cell_type": "markdown",
   "id": "c67dea54",
   "metadata": {},
   "source": [
    "Create a function to handle player moves. \n",
    "This function should take the game board and the current player's symbol as parameters, \n",
    "prompt the player for their move (using input()), and update the game board with the player's symbol \n",
    "in the appropriate location."
   ]
  },
  {
   "cell_type": "code",
   "execution_count": 114,
   "id": "bae47e44",
   "metadata": {},
   "outputs": [],
   "source": [
    "def SetSymbol(player):\n",
    "    if player == 1 :\n",
    "        symbol = 'x'\n",
    "        print('You are Player1 with symbol x')\n",
    "    else:\n",
    "        symbol = 'o'\n",
    "        print('You are Player2 with symbol o')\n",
    "    return symbol"
   ]
  },
  {
   "cell_type": "code",
   "execution_count": 115,
   "id": "84713a07",
   "metadata": {},
   "outputs": [],
   "source": [
    "def PlayerMoves(board, playersymbol):\n",
    "    if playersymbol == 'x':\n",
    "        print('Player1 Turn')\n",
    "    else:\n",
    "        print('Player2 Turn')\n",
    "    while True:\n",
    "        moverow = int(input('Which row do you mark: '))\n",
    "        movecol = int(input('Which column do you mark in the selected row: '))\n",
    "        if moverow > 2 or moverow < 0 :\n",
    "            print('Invalid row, enter a number between 0 and 2')\n",
    "        elif movecol > 2 or movecol < 0 :\n",
    "            print('Invalid column, enter a number between 0 and 2')\n",
    "        elif EmptyPosition(board, moverow, movecol) == True:\n",
    "            print('Position is empty, filling board...')\n",
    "            board[moverow][movecol] = playersymbol\n",
    "            break    #row and column enterred correctly in an empty position\n",
    "        else:\n",
    "            print('Position not empty, cannot fill board, choose another position...')\n",
    "            \n",
    "    GameBoard(board)"
   ]
  },
  {
   "cell_type": "code",
   "execution_count": 116,
   "id": "8c91df85",
   "metadata": {},
   "outputs": [],
   "source": [
    "def EmptyPosition(board, row, col):    \n",
    "    if(board[row][col] == '-'):    \n",
    "        return True    \n",
    "    else:    \n",
    "        return False"
   ]
  },
  {
   "cell_type": "markdown",
   "id": "43937689",
   "metadata": {},
   "source": [
    "## Function to check for win"
   ]
  },
  {
   "cell_type": "markdown",
   "id": "5d6decf9",
   "metadata": {},
   "source": [
    "Create a function to check for a win. This function should take the game board and \n",
    "the current player's symbol as parameters and check if any of the rows, columns, \n",
    "or diagonals of the board contain three of the player's symbols in a row. "
   ]
  },
  {
   "cell_type": "code",
   "execution_count": 117,
   "id": "b2015500",
   "metadata": {},
   "outputs": [],
   "source": [
    "def GameWin(board, playersymbol):\n",
    "    global GameState\n",
    "    #Horizontal winning condition    \n",
    "    if((board[0][0] == board[0][1] and board[0][1] == board[0][2]) and board[0][0] != '-'):\n",
    "        GameState = Win\n",
    "        #Which player won\n",
    "        if(playersymbol == 'x'):\n",
    "            print('Player1, X is the Winner')\n",
    "        else:\n",
    "            print('Player2, O is the Winner')\n",
    "    elif((board[1][0] == board[1][1] and board[1][1] == board[1][2]) and board[1][0] != '-'):    \n",
    "        GameState = Win\n",
    "        #Which player won\n",
    "        if(playersymbol == 'x'):\n",
    "            print('Player1, X is the Winner')\n",
    "        else:\n",
    "            print('Player2, O is the Winner')\n",
    "    elif((board[2][0] == board[2][1] and board[2][1] == board[2][2]) and board[2][0] != '-'):    \n",
    "        GameState = Win\n",
    "        #Which player won\n",
    "        if(playersymbol == 'x'):\n",
    "            print('Player1, X is the Winner')\n",
    "        else:\n",
    "            print('Player2, O is the Winner')\n",
    "    #Vertical Winning Condition    \n",
    "    if((board[0][0] == board[1][0] and board[1][0] == board[2][0]) and board[0][0] != '-'):    \n",
    "        GameState = Win\n",
    "        #Which player won\n",
    "        if(playersymbol == 'x'):\n",
    "            print('Player1, X is the Winner')\n",
    "        else:\n",
    "            print('Player2, O is the Winner')\n",
    "    elif((board[0][1] == board[1][1] and board[1][1] == board[2][1]) and board[0][1] != '-'):    \n",
    "        GameState = Win\n",
    "        #Which player won\n",
    "        if(playersymbol == 'x'):\n",
    "            print('Player1, X is the Winner')\n",
    "        else:\n",
    "            print('Player2, O is the Winner')\n",
    "    elif((board[0][2] == board[1][2] and board[1][2] == board[2][2]) and board[0][2] != '-'):    \n",
    "        GameState = Win\n",
    "        #Which player won\n",
    "        if(playersymbol == 'x'):\n",
    "            print('Player1, X is the Winner')\n",
    "        else:\n",
    "            print('Player2, O is the Winner')\n",
    "\n",
    "    #Diagonal Winning Condition    \n",
    "    if((board[0][0] == board[1][1] and board[1][1] == board[2][2]) and board[0][0] != '-'):    \n",
    "        GameState = Win\n",
    "        #Which player won\n",
    "        if(playersymbol == 'x'):\n",
    "            print('Player1, X is the Winner')\n",
    "        else:\n",
    "            print('Player2, O is the Winner')\n",
    "    elif((board[0][2] == board[1][1] and board[1][1] == board[2][2]) and board[0][2] != '-'):    \n",
    "        GameState = Win\n",
    "        #Which player won\n",
    "        if(playersymbol == 'x'):\n",
    "            print('Player1, X is the Winner')\n",
    "        else:\n",
    "            print('Player2, O is the Winner')\n",
    "    return GameState\n",
    "    #print(playersymbol,' is not the Winner, continue the game')"
   ]
  },
  {
   "cell_type": "markdown",
   "id": "cca63cea",
   "metadata": {},
   "source": [
    "## Function to check for tie "
   ]
  },
  {
   "cell_type": "markdown",
   "id": "ef38badd",
   "metadata": {},
   "source": [
    "Create a function to check for a tie. \n",
    "This function should take the game board as a parameter and check if every square on the board has been filled."
   ]
  },
  {
   "cell_type": "code",
   "execution_count": 118,
   "id": "4f632941",
   "metadata": {},
   "outputs": [],
   "source": [
    "def GameTie(board):\n",
    "    #global GameState\n",
    "    if ((EmptyPosition(board,0,0) == False) and\n",
    "    (EmptyPosition(board,0,1) == False) and\n",
    "    (EmptyPosition(board,0,2) == False) and\n",
    "    (EmptyPosition(board,1,0) == False) and\n",
    "    (EmptyPosition(board,1,1) == False) and\n",
    "    (EmptyPosition(board,1,2) == False) and\n",
    "    (EmptyPosition(board,2,0) == False) and\n",
    "    (EmptyPosition(board,2,1) == False) and \n",
    "    (EmptyPosition(board,2,2) == False) ):\n",
    "        GameState = Draw\n",
    "        print('Draw')\n",
    "    else:\n",
    "        GameState = Play\n",
    "        print('Not a tie')\n",
    "    return GameState"
   ]
  },
  {
   "cell_type": "markdown",
   "id": "036de78b",
   "metadata": {},
   "source": [
    "## Main Game "
   ]
  },
  {
   "cell_type": "markdown",
   "id": "959b214e",
   "metadata": {},
   "source": [
    "Create a main game loop that alternates between the two players. \n",
    "In each iteration of the loop, print the current state of the game board, \n",
    "prompt the current player for their move, update the game board with the player's symbol, \n",
    "and check if the game has been won or tied. \n",
    "If the game has been won or tied, end the loop and print the appropriate message. \n",
    "Test the game by playing it and checking that it correctly handles player moves, checks for wins and ties, and prints the appropriate messages."
   ]
  },
  {
   "cell_type": "code",
   "execution_count": 129,
   "id": "d3bf0c87",
   "metadata": {},
   "outputs": [
    {
     "name": "stdout",
     "output_type": "stream",
     "text": [
      "TicTacToe Capstone Project by Sohayla Ihab\n",
      "\n",
      "There are two players in this game\n",
      "\n",
      "Start game:\n",
      " ___ ___ ___\n",
      "| - | - | - |\n",
      "|___|___|___|\n",
      "| - | - | - |\n",
      "|___|___|___|\n",
      "| - | - | - |\n",
      "|___|___|___|\n"
     ]
    }
   ],
   "source": [
    "print(\"TicTacToe Capstone Project by Sohayla Ihab\\n\")    \n",
    "print(\"There are two players in this game\\n\")\n",
    "print(\"Start game:\")\n",
    "board = [['-','-','-'],['-','-','-'],['-','-','-']]\n",
    "GameBoard(board)"
   ]
  },
  {
   "cell_type": "code",
   "execution_count": 130,
   "id": "7ac3e702",
   "metadata": {},
   "outputs": [
    {
     "name": "stdout",
     "output_type": "stream",
     "text": [
      "Set Players\n",
      "\n",
      "You are Player1 with symbol x\n",
      "You are Player2 with symbol o\n",
      "Game State:  0\n",
      "Go Players\n",
      "\n",
      "Player1 Turn\n",
      "Which row do you mark: 0\n",
      "Which column do you mark in the selected row: 0\n",
      "Position is empty, filling board...\n",
      " ___ ___ ___\n",
      "| x | - | - |\n",
      "|___|___|___|\n",
      "| - | - | - |\n",
      "|___|___|___|\n",
      "| - | - | - |\n",
      "|___|___|___|\n",
      "Game State:  0\n",
      "Is it a tie?\n",
      "\n",
      "Not a tie\n",
      "Game State:  0\n",
      "Player2 Turn\n",
      "Which row do you mark: 0\n",
      "Which column do you mark in the selected row: 1\n",
      "Position is empty, filling board...\n",
      " ___ ___ ___\n",
      "| x | o | - |\n",
      "|___|___|___|\n",
      "| - | - | - |\n",
      "|___|___|___|\n",
      "| - | - | - |\n",
      "|___|___|___|\n",
      "Game State:  0\n",
      "Is it a tie?\n",
      "\n",
      "Not a tie\n",
      "Game State:  0\n",
      "Game State:  0\n",
      "Go Players\n",
      "\n",
      "Player1 Turn\n",
      "Which row do you mark: 1\n",
      "Which column do you mark in the selected row: 0\n",
      "Position is empty, filling board...\n",
      " ___ ___ ___\n",
      "| x | o | - |\n",
      "|___|___|___|\n",
      "| x | - | - |\n",
      "|___|___|___|\n",
      "| - | - | - |\n",
      "|___|___|___|\n",
      "Game State:  0\n",
      "Is it a tie?\n",
      "\n",
      "Not a tie\n",
      "Game State:  0\n",
      "Player2 Turn\n",
      "Which row do you mark: 1\n",
      "Which column do you mark in the selected row: 1\n",
      "Position is empty, filling board...\n",
      " ___ ___ ___\n",
      "| x | o | - |\n",
      "|___|___|___|\n",
      "| x | o | - |\n",
      "|___|___|___|\n",
      "| - | - | - |\n",
      "|___|___|___|\n",
      "Game State:  0\n",
      "Is it a tie?\n",
      "\n",
      "Not a tie\n",
      "Game State:  0\n",
      "Game State:  0\n",
      "Go Players\n",
      "\n",
      "Player1 Turn\n",
      "Which row do you mark: 2\n",
      "Which column do you mark in the selected row: 0\n",
      "Position is empty, filling board...\n",
      " ___ ___ ___\n",
      "| x | o | - |\n",
      "|___|___|___|\n",
      "| x | o | - |\n",
      "|___|___|___|\n",
      "| x | - | - |\n",
      "|___|___|___|\n",
      "Player1, X is the Winner\n",
      "Game State:  1\n"
     ]
    }
   ],
   "source": [
    "###GAME SETTINGS###\n",
    "Player1 = 1\n",
    "Player2 = 2\n",
    "global Win\n",
    "Win = 1\n",
    "global Draw \n",
    "Draw = -1\n",
    "global Play \n",
    "Play = 0\n",
    "global End \n",
    "End = 1\n",
    "#global GameState\n",
    "GameState = Play\n",
    "##########################\n",
    "print(\"Set Players\\n\")\n",
    "Player1 = SetSymbol(Player1)\n",
    "Player2 = SetSymbol(Player2)\n",
    "while GameState == Play:\n",
    "    os.system('cls')\n",
    "    print(\"Game State: \",GameState)\n",
    "    #initial game state checks that the board is already empty\n",
    "    #GameTie(board)#Play, ends the loop if Draw\n",
    "    if(GameState == Draw or GameState == Win or GameState == End):\n",
    "        break\n",
    "        \n",
    "    print(\"Go Players\\n\")\n",
    "    PlayerMoves(board, Player1)\n",
    "    GameState = GameWin(board, Player1)#Win\n",
    "    print(\"Game State: \",GameState)\n",
    "    if GameState == Win:\n",
    "        GameState = End\n",
    "        break\n",
    "    print(\"Is it a tie?\\n\")\n",
    "    GameState = GameTie(board)\n",
    "    print(\"Game State: \",GameState)\n",
    "    if GameState == Draw:\n",
    "        GameState = End\n",
    "        break\n",
    "    t.sleep(3)\n",
    "    PlayerMoves(board, Player2)\n",
    "    GameState = GameWin(board, Player2)#Win\n",
    "    print(\"Game State: \",GameState)\n",
    "    if GameState == Win:\n",
    "        GameState = End\n",
    "        break\n",
    "    print(\"Is it a tie?\\n\")\n",
    "    GameState = GameTie(board)\n",
    "    print(\"Game State: \",GameState)\n",
    "    if GameState == Draw:\n",
    "        GameState = End\n",
    "        break\n",
    "    t.sleep(3)\n",
    "    #print(\"Who won?\\n\")\n",
    "\n",
    "#os.system('cls')\n",
    "#print(\"Is it a tie?\\n\")\n",
    "#GameTie(board)"
   ]
  }
 ],
 "metadata": {
  "kernelspec": {
   "display_name": "Python 3 (ipykernel)",
   "language": "python",
   "name": "python3"
  },
  "language_info": {
   "codemirror_mode": {
    "name": "ipython",
    "version": 3
   },
   "file_extension": ".py",
   "mimetype": "text/x-python",
   "name": "python",
   "nbconvert_exporter": "python",
   "pygments_lexer": "ipython3",
   "version": "3.9.16"
  }
 },
 "nbformat": 4,
 "nbformat_minor": 5
}
